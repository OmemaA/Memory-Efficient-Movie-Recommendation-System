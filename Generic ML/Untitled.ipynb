{
 "cells": [
  {
   "cell_type": "code",
   "execution_count": 28,
   "metadata": {},
   "outputs": [],
   "source": [
    "import pandas as pd\n",
    "import numpy as np\n",
    "from scipy.stats import pearsonr"
   ]
  },
  {
   "cell_type": "code",
   "execution_count": 22,
   "metadata": {},
   "outputs": [],
   "source": [
    "ratingsdf=pd.read_csv('ml-latest-small/ratings.csv',usecols=[\"userId\",\n",
    "                                                              'movieId',\n",
    "                                                             'rating'])"
   ]
  },
  {
   "cell_type": "code",
   "execution_count": 23,
   "metadata": {},
   "outputs": [
    {
     "data": {
      "text/plain": [
       "(100836, 3)"
      ]
     },
     "execution_count": 23,
     "metadata": {},
     "output_type": "execute_result"
    }
   ],
   "source": [
    "ratingsdf.head()\n",
    "ratingsdf.shape"
   ]
  },
  {
   "cell_type": "code",
   "execution_count": 27,
   "metadata": {},
   "outputs": [],
   "source": [
    "userids=ratingsdf['userId'].unique()\n",
    "movieIds=ratingsdf['movieId'].unique()"
   ]
  },
  {
   "cell_type": "code",
   "execution_count": 50,
   "metadata": {},
   "outputs": [],
   "source": [
    "def SimPearson(df , User1 , User2 , min_common_items = 10):\n",
    "    # GET MOVIES OF USER1\n",
    "    mov_u1 = df[df['userId'] == User1 ]\n",
    "    # GET MOVIES OF USER2\n",
    "    mov_u2 = df[df['userId'] == User2 ]\n",
    "    # FIND SHARED FILMS\n",
    "    rep = pd.merge( mov_u1 , mov_u2 , on = 'movieId')\n",
    "    if len(rep)==0:\n",
    "        return 0\n",
    "    if(len(rep) < min_common_items):\n",
    "        return 0\n",
    "    return pearsonr(rep['rating_x'], rep['rating_y']) [0]"
   ]
  },
  {
   "cell_type": "code",
   "execution_count": 53,
   "metadata": {},
   "outputs": [
    {
     "data": {
      "text/plain": [
       "0.26874902634577136"
      ]
     },
     "execution_count": 53,
     "metadata": {},
     "output_type": "execute_result"
    }
   ],
   "source": [
    "SimPearson(ratingsdf,1,5)"
   ]
  },
  {
   "cell_type": "code",
   "execution_count": 69,
   "metadata": {},
   "outputs": [],
   "source": [
    "class CollaborativeFiltering:\n",
    "    \"\"\" CF using a custom sim(u,u ’). \"\"\"\n",
    "    def __init__(self , df, similarity = SimPearson):\n",
    "        \"\"\" Constructor \"\"\"\n",
    "        self. sim_method = similarity\n",
    "        self.df = df\n",
    "        self.sim = pd. DataFrame(\n",
    "        np.sum ([0]), columns = df.userId.unique(),\n",
    "        index = df.userId.unique())\n",
    "    def fit(self):\n",
    "        \"\"\" Prepare data structures for estimation.\n",
    "        Similarity matrix for users \"\"\"\n",
    "        allUsers = set(self.df['userId'])\n",
    "        self.sim = {}\n",
    "        for person1 in allUsers:\n",
    "            self.sim. setdefault( person1 , {})\n",
    "            a = self.df[\n",
    "            self.df['userId'] == person1][['movieId']]\n",
    "            data_reduced = pd. merge(self.df,a,\n",
    "            on = 'movieId')\n",
    "            for person2 in allUsers:\n",
    "                # Avoid our -self\n",
    "                if person1 <= person2: continue\n",
    "                self.sim. setdefault( person2 , {})\n",
    "#                 if(self.sim[person2].has_key(person1)):\n",
    "#                     continue # since symmetric matrix\n",
    "                sim = self. sim_method( data_reduced ,\n",
    "                person1 ,\n",
    "                person2)\n",
    "                if(sim < 0):\n",
    "                    self.sim[person1][person2] = 0\n",
    "                    self.sim[person2][person1] = 0\n",
    "                else :\n",
    "                    self.sim[person1][person2] = sim\n",
    "                    self.sim[person2][person1] = sim\n",
    "    def predict(self , user_id , movie_id):\n",
    "        totals = {}\n",
    "        users = self.df[self.df['movieId'] == movie_id]\n",
    "        rating_num , rating_den = 0.0, 0.0\n",
    "        allUsers = set(users['userId'])\n",
    "        for other in allUsers:\n",
    "            if user_id == other: continue\n",
    "            rating_num +=self.sim[user_id][other] * float (users[users\n",
    "            ['userId'] == other]['rating'])\n",
    "            rating_den += self.sim[user_id][other]\n",
    "        if rating_den == 0:\n",
    "            if self.df.rating [self.df['movieId'] ==\n",
    "            movie_id]. mean() > 0:\n",
    "                # Mean movie rating if there is no similar for the computation\n",
    "                return self.df.rating [self.df['movieId'] ==\n",
    "                movie_id]. mean()\n",
    "            else :\n",
    "            # else mean user rating\n",
    "                return self.df.rating [self.df['userId'] ==\n",
    "            user_id]. mean()\n",
    "        return rating_num/rating_den"
   ]
  },
  {
   "cell_type": "code",
   "execution_count": null,
   "metadata": {},
   "outputs": [],
   "source": []
  },
  {
   "cell_type": "code",
   "execution_count": 71,
   "metadata": {},
   "outputs": [],
   "source": [
    "db=CollaborativeFiltering(ratingsdf)\n",
    "db.sim=f"
   ]
  },
  {
   "cell_type": "code",
   "execution_count": 67,
   "metadata": {},
   "outputs": [],
   "source": [
    "f=db.sim"
   ]
  },
  {
   "cell_type": "code",
   "execution_count": 85,
   "metadata": {},
   "outputs": [
    {
     "data": {
      "text/plain": [
       "3.674336737207032"
      ]
     },
     "execution_count": 85,
     "metadata": {},
     "output_type": "execute_result"
    }
   ],
   "source": [
    "db.predict(2,2)"
   ]
  },
  {
   "cell_type": "code",
   "execution_count": 88,
   "metadata": {},
   "outputs": [],
   "source": [
    "import json\n",
    "json.dump(f,open('data.json','w'))"
   ]
  }
 ],
 "metadata": {
  "kernelspec": {
   "display_name": "Python 3",
   "language": "python",
   "name": "python3"
  },
  "language_info": {
   "codemirror_mode": {
    "name": "ipython",
    "version": 3
   },
   "file_extension": ".py",
   "mimetype": "text/x-python",
   "name": "python",
   "nbconvert_exporter": "python",
   "pygments_lexer": "ipython3",
   "version": "3.8.1"
  }
 },
 "nbformat": 4,
 "nbformat_minor": 4
}
